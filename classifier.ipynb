{
 "cells": [
  {
   "cell_type": "code",
   "execution_count": 1,
   "id": "7f99ea91",
   "metadata": {},
   "outputs": [],
   "source": [
    "# Imports\n",
    "import matplotlib.pyplot as plt\n",
    "import numpy as np\n",
    "from pathlib import Path"
   ]
  },
  {
   "cell_type": "code",
   "execution_count": 2,
   "id": "db98c94e",
   "metadata": {},
   "outputs": [
    {
     "name": "stdout",
     "output_type": "stream",
     "text": [
      "Lossless data loaded:  6877\n",
      "WARNING: Mismatched lossy file:  43_忘却の彼方 〜蛮神シヴァ討滅戦〜_15\n",
      "Lossy data loaded:  6877\n"
     ]
    }
   ],
   "source": [
    "# Read data set\n",
    "datasetPath = Path('specgrams')\n",
    "\n",
    "losslessData = {}\n",
    "lossyData = {}\n",
    "\n",
    "filenameList = []\n",
    "\n",
    "# Read the lossless data\n",
    "for childPath in datasetPath.joinpath('specgram_lossless').iterdir():\n",
    "    if childPath.suffix == '.tiff':\n",
    "        filename = childPath.name.replace('.tiff', '')\n",
    "        filenameList.append(filename)\n",
    "        # Flatten to 1D array in order to use as feature\n",
    "        losslessData[filename] = plt.imread(childPath.as_posix()).flatten()\n",
    "        plt.close('all')\n",
    "print('Lossless data loaded: ', len(losslessData))\n",
    "        \n",
    "# Read the lossy data\n",
    "for childPath in datasetPath.joinpath('specgram_lossy_insanely_high').iterdir():\n",
    "    if childPath.suffix == '.tiff':\n",
    "        filename = childPath.name.replace('.mp3', '').replace('.tiff', '')\n",
    "        # This should not happen, but we should check if the lossy image file\n",
    "        # corresponds to a lossless image file\n",
    "        if not filename in losslessData:\n",
    "            print('WARNING: Mismatched lossy file: ', filename)\n",
    "            continue\n",
    "        # Flatten to 1D array in order to use as feature\n",
    "        lossyData[filename] = plt.imread(childPath.as_posix()).flatten()\n",
    "        plt.close('all')\n",
    "print('Lossy data loaded: ', len(losslessData))"
   ]
  },
  {
   "cell_type": "code",
   "execution_count": 3,
   "id": "aaf924bb",
   "metadata": {},
   "outputs": [
    {
     "name": "stdout",
     "output_type": "stream",
     "text": [
      "Training set:  11004\n",
      "Testing set:  2750\n"
     ]
    }
   ],
   "source": [
    "# Naive approach to split training/testing set\n",
    "trainTestRatio = 0.8\n",
    "\n",
    "# Label: lossless = 0, lossy = 1\n",
    "trainingLabelList = []\n",
    "trainingSetList = []\n",
    "testingLabelList = []\n",
    "testingSetList = []\n",
    "\n",
    "for name in losslessData:\n",
    "    # Skip if the track is only in lossless data\n",
    "    if not name in lossyData:\n",
    "        continue\n",
    "    # Add the entry to training set if the training set is not big enough\n",
    "    if len(trainingSetList) < (2 * len(lossyData)) * trainTestRatio:\n",
    "        # Add both lossless entry and the lossy counterpart\n",
    "        trainingSetList.append(losslessData[name])\n",
    "        trainingLabelList.append(0)\n",
    "        trainingSetList.append(lossyData[name])\n",
    "        trainingLabelList.append(1)\n",
    "    else:\n",
    "        testingSetList.append(losslessData[name])\n",
    "        testingLabelList.append(0)\n",
    "        testingSetList.append(lossyData[name])\n",
    "        testingLabelList.append(1)\n",
    "print('Training set: ', len(trainingSetList))\n",
    "print('Testing set: ', len(testingSetList))"
   ]
  },
  {
   "cell_type": "code",
   "execution_count": 4,
   "id": "186f9ba5",
   "metadata": {},
   "outputs": [
    {
     "data": {
      "text/plain": [
       "DecisionTreeClassifier()"
      ]
     },
     "execution_count": 4,
     "metadata": {},
     "output_type": "execute_result"
    }
   ],
   "source": [
    "# Train decision tree classifier\n",
    "from sklearn import tree\n",
    "clf = tree.DecisionTreeClassifier()\n",
    "clf.fit(trainingSetList, trainingLabelList)"
   ]
  },
  {
   "cell_type": "code",
   "execution_count": 5,
   "id": "0e4ab31c",
   "metadata": {},
   "outputs": [
    {
     "data": {
      "text/plain": [
       "0.9501818181818181"
      ]
     },
     "execution_count": 5,
     "metadata": {},
     "output_type": "execute_result"
    }
   ],
   "source": [
    "# Test classifier\n",
    "clf.score(testingSetList, testingLabelList)"
   ]
  },
  {
   "cell_type": "code",
   "execution_count": null,
   "id": "ba5db020",
   "metadata": {},
   "outputs": [],
   "source": []
  }
 ],
 "metadata": {
  "kernelspec": {
   "display_name": "Python 3 (ipykernel)",
   "language": "python",
   "name": "python3"
  },
  "language_info": {
   "codemirror_mode": {
    "name": "ipython",
    "version": 3
   },
   "file_extension": ".py",
   "mimetype": "text/x-python",
   "name": "python",
   "nbconvert_exporter": "python",
   "pygments_lexer": "ipython3",
   "version": "3.9.7"
  }
 },
 "nbformat": 4,
 "nbformat_minor": 5
}
