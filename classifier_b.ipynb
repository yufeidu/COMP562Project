{
 "cells": [
  {
   "cell_type": "code",
   "execution_count": 1,
   "id": "7f99ea91",
   "metadata": {},
   "outputs": [],
   "source": [
    "# Imports\n",
    "import matplotlib.pyplot as plt\n",
    "import numpy as np\n",
    "from pathlib import Path"
   ]
  },
  {
   "cell_type": "code",
   "execution_count": 2,
   "id": "db98c94e",
   "metadata": {},
   "outputs": [
    {
     "name": "stdout",
     "output_type": "stream",
     "text": [
      "Lossless data loaded:  6877\n",
      "Lossy data loaded:  6877\n"
     ]
    }
   ],
   "source": [
    "# Read data set\n",
    "datasetPath = Path('specgrams')\n",
    "\n",
    "losslessData = {}\n",
    "lossyData = {}\n",
    "\n",
    "filenameList = []\n",
    "\n",
    "# Read the lossless data\n",
    "for childPath in datasetPath.joinpath('specgram_lossless').iterdir():\n",
    "    if childPath.suffix == '.tiff':\n",
    "        filename = childPath.name.replace('.tiff', '')\n",
    "        filenameList.append(filename)\n",
    "        # Flatten to 1D array in order to use as feature\n",
    "        losslessData[filename] = plt.imread(childPath.as_posix()).flatten()\n",
    "        plt.close('all')\n",
    "print('Lossless data loaded: ', len(losslessData))\n",
    "        \n",
    "# Read the lossy data\n",
    "for childPath in datasetPath.joinpath('specgram_lossy_insanely_high').iterdir():\n",
    "    if childPath.suffix == '.tiff':\n",
    "        filename = childPath.name.replace('.mp3', '').replace('.tiff', '')\n",
    "        # This should not happen, but we should check if the lossy image file\n",
    "        # corresponds to a lossless image file\n",
    "        if not filename in losslessData:\n",
    "            print('WARNING: Mismatched lossy file: ', filename)\n",
    "            continue\n",
    "        # Flatten to 1D array in order to use as feature\n",
    "        lossyData[filename] = plt.imread(childPath.as_posix()).flatten()\n",
    "        plt.close('all')\n",
    "print('Lossy data loaded: ', len(losslessData))"
   ]
  },
  {
   "cell_type": "code",
   "execution_count": 3,
   "id": "aaf924bb",
   "metadata": {},
   "outputs": [
    {
     "name": "stdout",
     "output_type": "stream",
     "text": [
      "Training set:  11004\n",
      "Testing set:  2750\n"
     ]
    }
   ],
   "source": [
    "# Naive approach to split training/testing set\n",
    "# Run either this cell or the next cell, which uses sklearn's split function\n",
    "trainTestRatio = 0.8\n",
    "\n",
    "# Label: lossless = 0, lossy = 1\n",
    "trainingLabelList = []\n",
    "trainingSetList = []\n",
    "testingLabelList = []\n",
    "testingSetList = []\n",
    "\n",
    "for name in losslessData:\n",
    "    # Skip if the track is only in lossless data\n",
    "    if not name in lossyData:\n",
    "        continue\n",
    "    # Add the entry to training set if the training set is not big enough\n",
    "    if len(trainingSetList) < (2 * len(lossyData)) * trainTestRatio:\n",
    "        # Add both lossless entry and the lossy counterpart\n",
    "        trainingSetList.append(losslessData[name])\n",
    "        trainingLabelList.append(0)\n",
    "        trainingSetList.append(lossyData[name])\n",
    "        trainingLabelList.append(1)\n",
    "    else:\n",
    "        testingSetList.append(losslessData[name])\n",
    "        testingLabelList.append(0)\n",
    "        testingSetList.append(lossyData[name])\n",
    "        testingLabelList.append(1)\n",
    "print('Training set: ', len(trainingSetList))\n",
    "print('Testing set: ', len(testingSetList))"
   ]
  },
  {
   "cell_type": "code",
   "execution_count": 3,
   "id": "2572019f",
   "metadata": {},
   "outputs": [],
   "source": [
    "# Split train and test set using sklearn's API\n",
    "from sklearn.model_selection import train_test_split\n",
    "X = list(losslessData.values()) + list(lossyData.values())\n",
    "y = [0 for _ in losslessData] + [1 for _ in lossyData]\n",
    "trainingSetList, testingSetList, trainingLabelList, testingLabelList = train_test_split(X, y, test_size=0.2)"
   ]
  },
  {
   "cell_type": "code",
   "execution_count": 4,
   "id": "186f9ba5",
   "metadata": {},
   "outputs": [],
   "source": [
    "# Initialize decision tree classifier\n",
    "from sklearn import tree\n",
    "clf = tree.DecisionTreeClassifier()"
   ]
  },
  {
   "cell_type": "code",
   "execution_count": 10,
   "id": "0e4ab31c",
   "metadata": {},
   "outputs": [
    {
     "data": {
      "text/plain": [
       "0.9825517993456925"
      ]
     },
     "execution_count": 10,
     "metadata": {},
     "output_type": "execute_result"
    }
   ],
   "source": [
    "# Fit and test classifier\n",
    "clf.fit(trainingSetList, trainingLabelList)\n",
    "clf.score(testingSetList, testingLabelList)"
   ]
  },
  {
   "cell_type": "code",
   "execution_count": 5,
   "id": "ba5db020",
   "metadata": {},
   "outputs": [],
   "source": [
    "# Let SKlearn cross-validate classifier\n",
    "scoring = ['f1', 'precision', 'recall', 'accuracy']\n",
    "from sklearn.model_selection import cross_validate\n",
    "results = cross_validate(clf, X, y, cv=5, scoring=scoring)"
   ]
  },
  {
   "cell_type": "code",
   "execution_count": 6,
   "id": "951ac1b0",
   "metadata": {},
   "outputs": [
    {
     "data": {
      "text/plain": [
       "{'fit_time': array([3006.15935135, 2303.35388303, 2898.73660469, 2529.66961598,\n",
       "        2831.16696763]),\n",
       " 'score_time': array([0.9221859 , 1.30297637, 0.9370389 , 1.29531193, 1.3944962 ]),\n",
       " 'test_f1': array([0.95851528, 0.95845481, 0.95560408, 0.95639535, 0.96261343]),\n",
       " 'test_precision': array([0.9592134 , 0.96055515, 0.95699708, 0.95639535, 0.96086957]),\n",
       " 'test_recall': array([0.95781818, 0.95636364, 0.95421512, 0.95639535, 0.96436364]),\n",
       " 'test_accuracy': array([0.95856052, 0.95856052, 0.95565249, 0.9563795 , 0.96254545])}"
      ]
     },
     "execution_count": 6,
     "metadata": {},
     "output_type": "execute_result"
    }
   ],
   "source": [
    "results"
   ]
  },
  {
   "cell_type": "code",
   "execution_count": 8,
   "id": "87b74a10",
   "metadata": {},
   "outputs": [
    {
     "name": "stdout",
     "output_type": "stream",
     "text": [
      "f1:  0.9583165897988171\n",
      "precision:  0.9588061099316085\n",
      "recall:  0.9578311839323467\n",
      "accuracy:  0.958339697961072\n"
     ]
    }
   ],
   "source": [
    "print('f1: ', np.mean(results['test_f1']))\n",
    "print('precision: ', np.mean(results['test_precision']))\n",
    "print('recall: ', np.mean(results['test_recall']))\n",
    "print('accuracy: ', np.mean(results['test_accuracy']))"
   ]
  },
  {
   "cell_type": "code",
   "execution_count": null,
   "id": "ddf51f04",
   "metadata": {},
   "outputs": [],
   "source": []
  }
 ],
 "metadata": {
  "kernelspec": {
   "display_name": "Python 3 (ipykernel)",
   "language": "python",
   "name": "python3"
  },
  "language_info": {
   "codemirror_mode": {
    "name": "ipython",
    "version": 3
   },
   "file_extension": ".py",
   "mimetype": "text/x-python",
   "name": "python",
   "nbconvert_exporter": "python",
   "pygments_lexer": "ipython3",
   "version": "3.9.7"
  }
 },
 "nbformat": 4,
 "nbformat_minor": 5
}
