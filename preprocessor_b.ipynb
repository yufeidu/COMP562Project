{
 "cells": [
  {
   "cell_type": "markdown",
   "id": "499633c5",
   "metadata": {},
   "source": [
    "Code to generate spectrograms is modified from here:\n",
    "https://www.kaggle.com/rtatman/how-to-create-spectrograms-from-flac-files"
   ]
  },
  {
   "cell_type": "code",
   "execution_count": 7,
   "id": "52e1714e",
   "metadata": {},
   "outputs": [],
   "source": [
    "import functools\n",
    "import gc\n",
    "import matplotlib.pyplot as plt\n",
    "from multiprocessing import Pool\n",
    "import numpy as np\n",
    "import soundfile as sf\n",
    "import scipy.signal as signal\n",
    "from pathlib import Path"
   ]
  },
  {
   "cell_type": "code",
   "execution_count": 8,
   "id": "3df8640c",
   "metadata": {},
   "outputs": [],
   "source": [
    "def genSpecgram(audioPath, outDirPath):\n",
    "    with audioPath.open('rb') as file:\n",
    "        data, samplerate = sf.read(file)\n",
    "        # Generate spectrogram for each 30 seconds\n",
    "        # Ignore snippets under 30 seconds\n",
    "        for i in range(int(data.shape[0]/samplerate/30)):\n",
    "            # We can't generate one spectrogram for both\n",
    "            # left and right channels, so only extract\n",
    "            # one channel\n",
    "            subData = data[i*samplerate*30:(i+1)*samplerate*30, 1]\n",
    "            # Generate spectrogram\n",
    "            plt.axis('off')\n",
    "            plt.specgram(subData, Fs=samplerate)\n",
    "            plt.savefig(outDirPath.joinpath(audioPath.name[:len(audioPath.name) - len(audioPath.suffix)] \\\n",
    "                                                 + '_' + str(i) + '.tiff'), bbox_inches='tight', pad_inches=0)\n",
    "            plt.cla()\n",
    "            plt.clf()\n",
    "            plt.close('all')"
   ]
  },
  {
   "cell_type": "code",
   "execution_count": 9,
   "id": "dc9f61b6",
   "metadata": {},
   "outputs": [],
   "source": [
    "# Input paths\n",
    "losslessPath = Path('dataset/All_44KHz_lossless')\n",
    "lossyPath = Path('dataset/MP3_to_FLAC_320kbps')\n",
    "# Output paths\n",
    "outLosslessPath = Path('dataset/specgram_lossless')\n",
    "outLossyPath = Path('dataset/specgrams/specgram_lossy_320kbps')"
   ]
  },
  {
   "cell_type": "code",
   "execution_count": 4,
   "id": "68ae855d",
   "metadata": {},
   "outputs": [
    {
     "name": "stderr",
     "output_type": "stream",
     "text": [
      "/usr/lib/python3.9/site-packages/matplotlib/axes/_axes.py:7580: RuntimeWarning: divide by zero encountered in log10\n",
      "  Z = 10. * np.log10(spec)\n",
      "/usr/lib/python3.9/site-packages/matplotlib/axes/_axes.py:7580: RuntimeWarning: divide by zero encountered in log10\n",
      "  Z = 10. * np.log10(spec)\n",
      "/usr/lib/python3.9/site-packages/matplotlib/axes/_axes.py:7580: RuntimeWarning: divide by zero encountered in log10\n",
      "  Z = 10. * np.log10(spec)\n",
      "/usr/lib/python3.9/site-packages/matplotlib/axes/_axes.py:7580: RuntimeWarning: divide by zero encountered in log10\n",
      "  Z = 10. * np.log10(spec)\n",
      "/usr/lib/python3.9/site-packages/matplotlib/axes/_axes.py:7580: RuntimeWarning: divide by zero encountered in log10\n",
      "  Z = 10. * np.log10(spec)\n",
      "/usr/lib/python3.9/site-packages/matplotlib/axes/_axes.py:7580: RuntimeWarning: divide by zero encountered in log10\n",
      "  Z = 10. * np.log10(spec)\n",
      "/usr/lib/python3.9/site-packages/matplotlib/axes/_axes.py:7580: RuntimeWarning: divide by zero encountered in log10\n",
      "  Z = 10. * np.log10(spec)\n",
      "/usr/lib/python3.9/site-packages/matplotlib/axes/_axes.py:7580: RuntimeWarning: divide by zero encountered in log10\n",
      "  Z = 10. * np.log10(spec)\n",
      "/usr/lib/python3.9/site-packages/matplotlib/axes/_axes.py:7580: RuntimeWarning: divide by zero encountered in log10\n",
      "  Z = 10. * np.log10(spec)\n",
      "/usr/lib/python3.9/site-packages/matplotlib/axes/_axes.py:7580: RuntimeWarning: divide by zero encountered in log10\n",
      "  Z = 10. * np.log10(spec)\n",
      "/usr/lib/python3.9/site-packages/matplotlib/axes/_axes.py:7580: RuntimeWarning: divide by zero encountered in log10\n",
      "  Z = 10. * np.log10(spec)\n",
      "/usr/lib/python3.9/site-packages/matplotlib/axes/_axes.py:7580: RuntimeWarning: divide by zero encountered in log10\n",
      "  Z = 10. * np.log10(spec)\n",
      "/usr/lib/python3.9/site-packages/matplotlib/axes/_axes.py:7580: RuntimeWarning: divide by zero encountered in log10\n",
      "  Z = 10. * np.log10(spec)\n",
      "/usr/lib/python3.9/site-packages/matplotlib/axes/_axes.py:7580: RuntimeWarning: divide by zero encountered in log10\n",
      "  Z = 10. * np.log10(spec)\n",
      "/usr/lib/python3.9/site-packages/matplotlib/axes/_axes.py:7580: RuntimeWarning: divide by zero encountered in log10\n",
      "  Z = 10. * np.log10(spec)\n",
      "/usr/lib/python3.9/site-packages/matplotlib/axes/_axes.py:7580: RuntimeWarning: divide by zero encountered in log10\n",
      "  Z = 10. * np.log10(spec)\n"
     ]
    }
   ],
   "source": [
    "\n",
    "# Generate lossless specgrams\n",
    "genSpecgramLossless = functools.partial(genSpecgram, outDirPath=outLosslessPath)\n",
    "\n",
    "with Pool() as pool:\n",
    "    results = pool.imap(genSpecgramLossless, losslessPath.iterdir(), chunksize=50)\n",
    "    for _ in results:\n",
    "        continue\n",
    "\n",
    "# # Iterate through the lossless directory\n",
    "# count = 0\n",
    "# for audioPath in losslessPath.iterdir():\n",
    "#     count += 1\n",
    "#     print('\\rProcessing file ', count, end='')\n",
    "#     with audioPath.open('rb') as file:\n",
    "#         data, samplerate = sf.read(file)\n",
    "#         # Generate spectrogram for each 30 seconds\n",
    "#         # Ignore snippets under 30 seconds\n",
    "#         for i in range(int(data.shape[0]/samplerate/30)):\n",
    "#             # We can't generate one spectrogram for both\n",
    "#             # left and right channels, so only extract\n",
    "#             # one channel\n",
    "#             subData = data[i*samplerate*30:(i+1)*samplerate*30, 1]\n",
    "#             # Generate spectrogram\n",
    "#             plt.axis('off')\n",
    "#             plt.specgram(subData, Fs=samplerate)\n",
    "#             plt.savefig(outLosslessPath.joinpath(audioPath.name[:len(audioPath.name) - len(audioPath.suffix)] \\\n",
    "#                                                  + '_' + str(i) + '.png'), bbox_inches='tight', pad_inches=0)\n",
    "#             plt.cla()\n",
    "#             plt.clf()\n",
    "#             plt.close('all')\n",
    "#         # Free memory\n",
    "#         del data\n",
    "#         del samplerate\n",
    "#         gc.collect()\n",
    "# print()"
   ]
  },
  {
   "cell_type": "code",
   "execution_count": 10,
   "id": "ea9422b1",
   "metadata": {},
   "outputs": [
    {
     "name": "stderr",
     "output_type": "stream",
     "text": [
      "/usr/lib/python3.9/site-packages/matplotlib/axes/_axes.py:7580: RuntimeWarning: divide by zero encountered in log10\n",
      "  Z = 10. * np.log10(spec)\n",
      "/usr/lib/python3.9/site-packages/matplotlib/axes/_axes.py:7580: RuntimeWarning: divide by zero encountered in log10\n",
      "  Z = 10. * np.log10(spec)\n",
      "/usr/lib/python3.9/site-packages/matplotlib/axes/_axes.py:7580: RuntimeWarning: divide by zero encountered in log10\n",
      "  Z = 10. * np.log10(spec)\n",
      "/usr/lib/python3.9/site-packages/matplotlib/axes/_axes.py:7580: RuntimeWarning: divide by zero encountered in log10\n",
      "  Z = 10. * np.log10(spec)\n",
      "/usr/lib/python3.9/site-packages/matplotlib/axes/_axes.py:7580: RuntimeWarning: divide by zero encountered in log10\n",
      "  Z = 10. * np.log10(spec)\n",
      "/usr/lib/python3.9/site-packages/matplotlib/axes/_axes.py:7580: RuntimeWarning: divide by zero encountered in log10\n",
      "  Z = 10. * np.log10(spec)\n",
      "/usr/lib/python3.9/site-packages/matplotlib/axes/_axes.py:7580: RuntimeWarning: divide by zero encountered in log10\n",
      "  Z = 10. * np.log10(spec)\n",
      "/usr/lib/python3.9/site-packages/matplotlib/axes/_axes.py:7580: RuntimeWarning: divide by zero encountered in log10\n",
      "  Z = 10. * np.log10(spec)\n",
      "/usr/lib/python3.9/site-packages/matplotlib/axes/_axes.py:7580: RuntimeWarning: divide by zero encountered in log10\n",
      "  Z = 10. * np.log10(spec)\n",
      "/usr/lib/python3.9/site-packages/matplotlib/axes/_axes.py:7580: RuntimeWarning: divide by zero encountered in log10\n",
      "  Z = 10. * np.log10(spec)\n",
      "/usr/lib/python3.9/site-packages/matplotlib/axes/_axes.py:7580: RuntimeWarning: divide by zero encountered in log10\n",
      "  Z = 10. * np.log10(spec)\n",
      "/usr/lib/python3.9/site-packages/matplotlib/axes/_axes.py:7580: RuntimeWarning: divide by zero encountered in log10\n",
      "  Z = 10. * np.log10(spec)\n",
      "/usr/lib/python3.9/site-packages/matplotlib/axes/_axes.py:7580: RuntimeWarning: divide by zero encountered in log10\n",
      "  Z = 10. * np.log10(spec)\n",
      "/usr/lib/python3.9/site-packages/matplotlib/axes/_axes.py:7580: RuntimeWarning: divide by zero encountered in log10\n",
      "  Z = 10. * np.log10(spec)\n",
      "/usr/lib/python3.9/site-packages/matplotlib/axes/_axes.py:7580: RuntimeWarning: divide by zero encountered in log10\n",
      "  Z = 10. * np.log10(spec)\n",
      "/usr/lib/python3.9/site-packages/matplotlib/axes/_axes.py:7580: RuntimeWarning: divide by zero encountered in log10\n",
      "  Z = 10. * np.log10(spec)\n"
     ]
    },
    {
     "name": "stdout",
     "output_type": "stream",
     "text": [
      "done\n"
     ]
    }
   ],
   "source": [
    "# Iterate through the lossy directory\n",
    "genSpecgramLossy = functools.partial(genSpecgram, outDirPath=outLossyPath)\n",
    "\n",
    "with Pool() as pool:\n",
    "    results = pool.imap(genSpecgramLossy, lossyPath.iterdir(), chunksize=50)\n",
    "    for _ in results:\n",
    "        continue\n",
    "print(\"done\")"
   ]
  },
  {
   "cell_type": "code",
   "execution_count": null,
   "id": "c020f328",
   "metadata": {},
   "outputs": [],
   "source": [
    "# Convert to bmp"
   ]
  }
 ],
 "metadata": {
  "kernelspec": {
   "display_name": "Python 3 (ipykernel)",
   "language": "python",
   "name": "python3"
  },
  "language_info": {
   "codemirror_mode": {
    "name": "ipython",
    "version": 3
   },
   "file_extension": ".py",
   "mimetype": "text/x-python",
   "name": "python",
   "nbconvert_exporter": "python",
   "pygments_lexer": "ipython3",
   "version": "3.9.7"
  }
 },
 "nbformat": 4,
 "nbformat_minor": 5
}
